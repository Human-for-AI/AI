{
 "cells": [
  {
   "cell_type": "code",
   "execution_count": 3,
   "id": "73d99f62",
   "metadata": {},
   "outputs": [
    {
     "name": "stderr",
     "output_type": "stream",
     "text": [
      "Using cache found in /home/temp_1/.cache/torch/hub/ultralytics_yolov5_master\n"
     ]
    },
    {
     "name": "stdout",
     "output_type": "stream",
     "text": [
      "Downloading https://ultralytics.com/assets/Arial.ttf to /home/temp_1/.config/Ultralytics/Arial.ttf...\n"
     ]
    },
    {
     "name": "stderr",
     "output_type": "stream",
     "text": [
      "YOLOv5 🚀 2021-11-25 torch 1.9.1+cu102 CUDA:0 (Quadro RTX 5000, 16125MiB)\n",
      "\n"
     ]
    },
    {
     "name": "stdout",
     "output_type": "stream",
     "text": [
      "Downloading https://github.com/ultralytics/yolov5/releases/download/v6.0/yolov5s.pt to /home/temp_1/.cache/torch/hub/ultralytics_yolov5_master/yolov5s.pt...\n"
     ]
    },
    {
     "data": {
      "application/vnd.jupyter.widget-view+json": {
       "model_id": "189b048ce6094022b7beced43f838d71",
       "version_major": 2,
       "version_minor": 0
      },
      "text/plain": [
       "  0%|          | 0.00/14.0M [00:00<?, ?B/s]"
      ]
     },
     "metadata": {},
     "output_type": "display_data"
    },
    {
     "name": "stdout",
     "output_type": "stream",
     "text": [
      "\n"
     ]
    },
    {
     "name": "stderr",
     "output_type": "stream",
     "text": [
      "Fusing layers... \n",
      "Model Summary: 213 layers, 7225885 parameters, 0 gradients\n",
      "Adding AutoShape... \n"
     ]
    }
   ],
   "source": [
    "import torch\n",
    "\n",
    "# Model\n",
    "model = torch.hub.load('ultralytics/yolov5', 'yolov5s', pretrained=True)"
   ]
  },
  {
   "cell_type": "code",
   "execution_count": 7,
   "id": "b08dcf5b",
   "metadata": {},
   "outputs": [],
   "source": [
    "img_name = '/home/temp_1/kangsanha/Hackathon/val2017/000000581781.jpg'"
   ]
  },
  {
   "cell_type": "code",
   "execution_count": 8,
   "id": "e231a15f",
   "metadata": {},
   "outputs": [],
   "source": [
    "result = model(img_name)"
   ]
  },
  {
   "cell_type": "code",
   "execution_count": 9,
   "id": "24618ad7",
   "metadata": {},
   "outputs": [
    {
     "data": {
      "text/plain": [
       "<models.common.Detections at 0x7f65bc511130>"
      ]
     },
     "execution_count": 9,
     "metadata": {},
     "output_type": "execute_result"
    }
   ],
   "source": [
    "result"
   ]
  },
  {
   "cell_type": "code",
   "execution_count": 29,
   "id": "b017a692",
   "metadata": {},
   "outputs": [],
   "source": [
    "res = result.pandas().xyxy[0]"
   ]
  },
  {
   "cell_type": "code",
   "execution_count": 32,
   "id": "6c2c021b",
   "metadata": {},
   "outputs": [
    {
     "data": {
      "text/plain": [
       "['banana',\n",
       " 'banana',\n",
       " 'orange',\n",
       " 'banana',\n",
       " 'banana',\n",
       " 'banana',\n",
       " 'banana',\n",
       " 'banana',\n",
       " 'banana',\n",
       " 'banana',\n",
       " 'banana',\n",
       " 'banana',\n",
       " 'apple',\n",
       " 'banana',\n",
       " 'banana',\n",
       " 'banana',\n",
       " 'banana',\n",
       " 'banana']"
      ]
     },
     "execution_count": 32,
     "metadata": {},
     "output_type": "execute_result"
    }
   ],
   "source": [
    "list(res['name'])"
   ]
  },
  {
   "cell_type": "code",
   "execution_count": 35,
   "id": "df1698d7",
   "metadata": {},
   "outputs": [],
   "source": [
    "torch.save(model, '/home/temp_1/kangsanha/Hackathon/YOLOv5.pt')"
   ]
  },
  {
   "cell_type": "code",
   "execution_count": null,
   "id": "777a5960",
   "metadata": {},
   "outputs": [],
   "source": []
  }
 ],
 "metadata": {
  "kernelspec": {
   "display_name": "Python 3 (ipykernel)",
   "language": "python",
   "name": "python3"
  },
  "language_info": {
   "codemirror_mode": {
    "name": "ipython",
    "version": 3
   },
   "file_extension": ".py",
   "mimetype": "text/x-python",
   "name": "python",
   "nbconvert_exporter": "python",
   "pygments_lexer": "ipython3",
   "version": "3.8.0"
  }
 },
 "nbformat": 4,
 "nbformat_minor": 5
}
